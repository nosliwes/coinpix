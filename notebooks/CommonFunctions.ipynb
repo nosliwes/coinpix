{
 "cells": [
  {
   "cell_type": "code",
   "execution_count": null,
   "id": "973123df-1468-4364-b290-01085e0a13f8",
   "metadata": {},
   "outputs": [],
   "source": [
    "# helper method to calculate EMA\n",
    "def get_ema(df,span):\n",
    "    sma = df.rolling(window=span, min_periods=span).mean()[:span]\n",
    "    rest = df[span:]\n",
    "    ema = pd.concat([sma, rest]).ewm(span=span, adjust=False).mean()\n",
    "    return ema\n",
    "\n",
    "# helper method to calculate RSI\n",
    "def rsi (data, time_window):\n",
    "    # diff in one field(one day)\n",
    "    diff = data.diff(1).dropna()        \n",
    "\n",
    "    #this preservers dimensions off diff values\n",
    "    up_chg = 0 * diff\n",
    "    down_chg = 0 * diff\n",
    "    \n",
    "    # up change is equal to the positive difference, otherwise equal to zero\n",
    "    up_chg[diff > 0] = diff[ diff>0 ]\n",
    "    \n",
    "    # down change is equal to negative difference, otherwise equal to zero\n",
    "    down_chg[diff < 0] = diff[ diff < 0 ]\n",
    "    \n",
    "    up_chg_avg   = up_chg.ewm(com=time_window-1 , min_periods=time_window).mean()\n",
    "    down_chg_avg = down_chg.ewm(com=time_window-1 , min_periods=time_window).mean()\n",
    "    \n",
    "    rs = abs(up_chg_avg/down_chg_avg)\n",
    "    rsi = 100 - 100/(1+rs)\n",
    "    return rsi"
   ]
  }
 ],
 "metadata": {
  "kernelspec": {
   "display_name": "Python 3",
   "language": "python",
   "name": "python3"
  },
  "language_info": {
   "codemirror_mode": {
    "name": "ipython",
    "version": 3
   },
   "file_extension": ".py",
   "mimetype": "text/x-python",
   "name": "python",
   "nbconvert_exporter": "python",
   "pygments_lexer": "ipython3",
   "version": "3.8.10"
  }
 },
 "nbformat": 4,
 "nbformat_minor": 5
}
