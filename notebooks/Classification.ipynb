{
 "cells": [
  {
   "cell_type": "markdown",
   "id": "7ec0fd2d-8055-48ff-9279-2c9ac13190c9",
   "metadata": {},
   "source": [
    "#### Classification Model to determine if a coin price is moving up or down"
   ]
  },
  {
   "cell_type": "code",
   "execution_count": 61,
   "id": "773c4208-d1f3-454c-baee-d5f0f235c50c",
   "metadata": {},
   "outputs": [],
   "source": [
    "import os\n",
    "import pandas as pd\n",
    "import numpy as np\n",
    "import datetime\n",
    "import warnings\n",
    "warnings.filterwarnings('ignore')"
   ]
  },
  {
   "cell_type": "markdown",
   "id": "1a2e0910-a134-48b5-bd73-fc5c58b0ed0a",
   "metadata": {},
   "source": [
    "##### Load Training Data"
   ]
  }
 ],
 "metadata": {
  "kernelspec": {
   "display_name": "Python 3",
   "language": "python",
   "name": "python3"
  },
  "language_info": {
   "codemirror_mode": {
    "name": "ipython",
    "version": 3
   },
   "file_extension": ".py",
   "mimetype": "text/x-python",
   "name": "python",
   "nbconvert_exporter": "python",
   "pygments_lexer": "ipython3",
   "version": "3.8.10"
  }
 },
 "nbformat": 4,
 "nbformat_minor": 5
}
