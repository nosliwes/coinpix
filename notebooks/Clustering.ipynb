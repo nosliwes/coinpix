{
 "cells": [
  {
   "cell_type": "markdown",
   "id": "d5a33a98-7e4f-4dc1-902a-3d26b98d9b3a",
   "metadata": {},
   "source": [
    "#### Cluster analysis to cluster similar coins"
   ]
  },
  {
   "cell_type": "code",
   "execution_count": 53,
   "id": "f9eb2e58-7f9d-4f9e-93fa-dfed13f7010b",
   "metadata": {},
   "outputs": [],
   "source": [
    "# coin price clustering with k-means\n",
    "\n",
    "import pandas as pd\n",
    "import numpy as np\n",
    "from sklearn.cluster import KMeans\n",
    "import matplotlib.pyplot as plt\n",
    "import seaborn\n",
    "plt.style.use('seaborn-pastel')\n",
    "\n",
    "import warnings\n",
    "warnings.filterwarnings('ignore')"
   ]
  },
  {
   "cell_type": "code",
   "execution_count": 11,
   "id": "007132e2-43eb-487e-986d-598a1dda5254",
   "metadata": {},
   "outputs": [],
   "source": [
    "'''\n",
    "Function to load price data from disk \n",
    "'''\n",
    "def load_data(symbol,years,path):\n",
    "    \n",
    "    for count,year in enumerate(years):\n",
    "        if count == 0:\n",
    "            df = pd.read_csv(path + '/' + str(year) + '/' + symbol + '.csv')\n",
    "        else:\n",
    "            df = pd.concat([df,pd.read_csv(path + '/' + str(year) + '/' + symbol + '.csv')]) \n",
    "    \n",
    "    df = df.reset_index(drop=True)\n",
    "    \n",
    "    return df"
   ]
  },
  {
   "cell_type": "code",
   "execution_count": 20,
   "id": "675286c0-e418-4a9a-9947-746b5066068b",
   "metadata": {},
   "outputs": [],
   "source": [
    "# set configuration\n",
    "path = '/Users/steve/coinpix/'  \n",
    "years=[2019,2020,2021]  \n",
    "\n",
    "# get coins to analyze\n",
    "coins = pd.read_csv(path + 'coins.csv',header=None).values[0]    \n",
    "\n",
    "# create an Empty DataFrame object\n",
    "df = pd.DataFrame()\n",
    "\n",
    "# load data for coins into columns\n",
    "for coin in coins:\n",
    "    df[coin] = load_data(coin,years,path+'price-data/')['Close']"
   ]
  },
  {
   "cell_type": "code",
   "execution_count": 25,
   "id": "e2ff6696-a6a8-4312-9a5f-5f10020d2baf",
   "metadata": {},
   "outputs": [
    {
     "data": {
      "text/html": [
       "<div>\n",
       "<style scoped>\n",
       "    .dataframe tbody tr th:only-of-type {\n",
       "        vertical-align: middle;\n",
       "    }\n",
       "\n",
       "    .dataframe tbody tr th {\n",
       "        vertical-align: top;\n",
       "    }\n",
       "\n",
       "    .dataframe thead th {\n",
       "        text-align: right;\n",
       "    }\n",
       "</style>\n",
       "<table border=\"1\" class=\"dataframe\">\n",
       "  <thead>\n",
       "    <tr style=\"text-align: right;\">\n",
       "      <th></th>\n",
       "      <th>BTC</th>\n",
       "      <th>ETC</th>\n",
       "      <th>ADA</th>\n",
       "      <th>DOGE</th>\n",
       "      <th>XRP</th>\n",
       "      <th>HEX</th>\n",
       "      <th>BCH</th>\n",
       "      <th>LTC</th>\n",
       "      <th>LINK</th>\n",
       "      <th>MATIC</th>\n",
       "      <th>...</th>\n",
       "      <th>BTS</th>\n",
       "      <th>CVC</th>\n",
       "      <th>DERO</th>\n",
       "      <th>MLN</th>\n",
       "      <th>TOMO</th>\n",
       "      <th>AVA</th>\n",
       "      <th>ARDR</th>\n",
       "      <th>XHV</th>\n",
       "      <th>ETN</th>\n",
       "      <th>BCN</th>\n",
       "    </tr>\n",
       "  </thead>\n",
       "  <tbody>\n",
       "    <tr>\n",
       "      <th>0</th>\n",
       "      <td>3843.520020</td>\n",
       "      <td>5.227261</td>\n",
       "      <td>0.042547</td>\n",
       "      <td>0.002392</td>\n",
       "      <td>0.364771</td>\n",
       "      <td>0.000171</td>\n",
       "      <td>164.854599</td>\n",
       "      <td>31.979931</td>\n",
       "      <td>0.299371</td>\n",
       "      <td>0.004421</td>\n",
       "      <td>...</td>\n",
       "      <td>0.039627</td>\n",
       "      <td>0.054520</td>\n",
       "      <td>0.938746</td>\n",
       "      <td>7.560998</td>\n",
       "      <td>0.307361</td>\n",
       "      <td>0.162806</td>\n",
       "      <td>0.054271</td>\n",
       "      <td>0.710078</td>\n",
       "      <td>0.007622</td>\n",
       "      <td>0.000716</td>\n",
       "    </tr>\n",
       "    <tr>\n",
       "      <th>1</th>\n",
       "      <td>3943.409424</td>\n",
       "      <td>5.438700</td>\n",
       "      <td>0.045258</td>\n",
       "      <td>0.002407</td>\n",
       "      <td>0.375243</td>\n",
       "      <td>0.000265</td>\n",
       "      <td>171.827377</td>\n",
       "      <td>33.433681</td>\n",
       "      <td>0.316489</td>\n",
       "      <td>0.003471</td>\n",
       "      <td>...</td>\n",
       "      <td>0.041815</td>\n",
       "      <td>0.055390</td>\n",
       "      <td>0.928734</td>\n",
       "      <td>8.699044</td>\n",
       "      <td>0.338898</td>\n",
       "      <td>0.153119</td>\n",
       "      <td>0.054969</td>\n",
       "      <td>0.715383</td>\n",
       "      <td>0.007734</td>\n",
       "      <td>0.000725</td>\n",
       "    </tr>\n",
       "    <tr>\n",
       "      <th>2</th>\n",
       "      <td>3836.741211</td>\n",
       "      <td>5.094617</td>\n",
       "      <td>0.042682</td>\n",
       "      <td>0.002360</td>\n",
       "      <td>0.360224</td>\n",
       "      <td>0.000256</td>\n",
       "      <td>162.049927</td>\n",
       "      <td>32.026699</td>\n",
       "      <td>0.365974</td>\n",
       "      <td>0.004478</td>\n",
       "      <td>...</td>\n",
       "      <td>0.039650</td>\n",
       "      <td>0.053987</td>\n",
       "      <td>0.862939</td>\n",
       "      <td>8.319635</td>\n",
       "      <td>0.324398</td>\n",
       "      <td>0.146013</td>\n",
       "      <td>0.054125</td>\n",
       "      <td>0.655627</td>\n",
       "      <td>0.007458</td>\n",
       "      <td>0.000706</td>\n",
       "    </tr>\n",
       "    <tr>\n",
       "      <th>3</th>\n",
       "      <td>3857.717529</td>\n",
       "      <td>5.254148</td>\n",
       "      <td>0.043812</td>\n",
       "      <td>0.002315</td>\n",
       "      <td>0.356747</td>\n",
       "      <td>0.000129</td>\n",
       "      <td>161.395630</td>\n",
       "      <td>32.404167</td>\n",
       "      <td>0.437175</td>\n",
       "      <td>0.004374</td>\n",
       "      <td>...</td>\n",
       "      <td>0.039895</td>\n",
       "      <td>0.054517</td>\n",
       "      <td>0.883271</td>\n",
       "      <td>8.566726</td>\n",
       "      <td>0.287430</td>\n",
       "      <td>0.138265</td>\n",
       "      <td>0.056234</td>\n",
       "      <td>0.678547</td>\n",
       "      <td>0.007379</td>\n",
       "      <td>0.000690</td>\n",
       "    </tr>\n",
       "    <tr>\n",
       "      <th>4</th>\n",
       "      <td>3845.194580</td>\n",
       "      <td>5.136273</td>\n",
       "      <td>0.044701</td>\n",
       "      <td>0.002319</td>\n",
       "      <td>0.355275</td>\n",
       "      <td>0.000218</td>\n",
       "      <td>160.401215</td>\n",
       "      <td>34.936867</td>\n",
       "      <td>0.395948</td>\n",
       "      <td>0.004198</td>\n",
       "      <td>...</td>\n",
       "      <td>0.039658</td>\n",
       "      <td>0.054707</td>\n",
       "      <td>0.910166</td>\n",
       "      <td>8.534426</td>\n",
       "      <td>0.291817</td>\n",
       "      <td>0.135108</td>\n",
       "      <td>0.060984</td>\n",
       "      <td>0.660816</td>\n",
       "      <td>0.007303</td>\n",
       "      <td>0.000707</td>\n",
       "    </tr>\n",
       "  </tbody>\n",
       "</table>\n",
       "<p>5 rows × 99 columns</p>\n",
       "</div>"
      ],
      "text/plain": [
       "           BTC       ETC       ADA      DOGE       XRP       HEX         BCH  \\\n",
       "0  3843.520020  5.227261  0.042547  0.002392  0.364771  0.000171  164.854599   \n",
       "1  3943.409424  5.438700  0.045258  0.002407  0.375243  0.000265  171.827377   \n",
       "2  3836.741211  5.094617  0.042682  0.002360  0.360224  0.000256  162.049927   \n",
       "3  3857.717529  5.254148  0.043812  0.002315  0.356747  0.000129  161.395630   \n",
       "4  3845.194580  5.136273  0.044701  0.002319  0.355275  0.000218  160.401215   \n",
       "\n",
       "         LTC      LINK     MATIC  ...       BTS       CVC      DERO       MLN  \\\n",
       "0  31.979931  0.299371  0.004421  ...  0.039627  0.054520  0.938746  7.560998   \n",
       "1  33.433681  0.316489  0.003471  ...  0.041815  0.055390  0.928734  8.699044   \n",
       "2  32.026699  0.365974  0.004478  ...  0.039650  0.053987  0.862939  8.319635   \n",
       "3  32.404167  0.437175  0.004374  ...  0.039895  0.054517  0.883271  8.566726   \n",
       "4  34.936867  0.395948  0.004198  ...  0.039658  0.054707  0.910166  8.534426   \n",
       "\n",
       "       TOMO       AVA      ARDR       XHV       ETN       BCN  \n",
       "0  0.307361  0.162806  0.054271  0.710078  0.007622  0.000716  \n",
       "1  0.338898  0.153119  0.054969  0.715383  0.007734  0.000725  \n",
       "2  0.324398  0.146013  0.054125  0.655627  0.007458  0.000706  \n",
       "3  0.287430  0.138265  0.056234  0.678547  0.007379  0.000690  \n",
       "4  0.291817  0.135108  0.060984  0.660816  0.007303  0.000707  \n",
       "\n",
       "[5 rows x 99 columns]"
      ]
     },
     "execution_count": 25,
     "metadata": {},
     "output_type": "execute_result"
    }
   ],
   "source": [
    "df.head()"
   ]
  },
  {
   "cell_type": "code",
   "execution_count": 32,
   "id": "f5316d00-994b-4bf7-883b-672d07a08e28",
   "metadata": {},
   "outputs": [],
   "source": [
    "# find expected annual returns and variance for clustering\n",
    "expected_return = df.pct_change().mean()*365\n",
    "variance = df.pct_change().var()*365"
   ]
  },
  {
   "cell_type": "code",
   "execution_count": 40,
   "id": "369719e1-2f3c-4919-a8df-b51cf3601bde",
   "metadata": {},
   "outputs": [],
   "source": [
    "# empty dataframe for clustering\n",
    "final_df = pd.DataFrame()\n",
    "\n",
    "# add coins column\n",
    "final_df['coin'] = df.columns\n",
    "\n",
    "# add return values\n",
    "final_df['return'] = expected_return.values\n",
    "\n",
    "# add variance values\n",
    "final_df['variance'] = variance.values"
   ]
  },
  {
   "cell_type": "code",
   "execution_count": 42,
   "id": "ab566432-e470-4b0e-ad5a-aa78d89ba7e6",
   "metadata": {},
   "outputs": [
    {
     "data": {
      "text/html": [
       "<div>\n",
       "<style scoped>\n",
       "    .dataframe tbody tr th:only-of-type {\n",
       "        vertical-align: middle;\n",
       "    }\n",
       "\n",
       "    .dataframe tbody tr th {\n",
       "        vertical-align: top;\n",
       "    }\n",
       "\n",
       "    .dataframe thead th {\n",
       "        text-align: right;\n",
       "    }\n",
       "</style>\n",
       "<table border=\"1\" class=\"dataframe\">\n",
       "  <thead>\n",
       "    <tr style=\"text-align: right;\">\n",
       "      <th></th>\n",
       "      <th>coin</th>\n",
       "      <th>return</th>\n",
       "      <th>variance</th>\n",
       "    </tr>\n",
       "  </thead>\n",
       "  <tbody>\n",
       "    <tr>\n",
       "      <th>0</th>\n",
       "      <td>BTC</td>\n",
       "      <td>1.179525</td>\n",
       "      <td>0.566068</td>\n",
       "    </tr>\n",
       "    <tr>\n",
       "      <th>1</th>\n",
       "      <td>ETC</td>\n",
       "      <td>1.572186</td>\n",
       "      <td>1.471802</td>\n",
       "    </tr>\n",
       "    <tr>\n",
       "      <th>2</th>\n",
       "      <td>ADA</td>\n",
       "      <td>2.057490</td>\n",
       "      <td>1.319614</td>\n",
       "    </tr>\n",
       "    <tr>\n",
       "      <th>3</th>\n",
       "      <td>DOGE</td>\n",
       "      <td>3.589713</td>\n",
       "      <td>5.659477</td>\n",
       "    </tr>\n",
       "    <tr>\n",
       "      <th>4</th>\n",
       "      <td>XRP</td>\n",
       "      <td>0.972929</td>\n",
       "      <td>1.502262</td>\n",
       "    </tr>\n",
       "  </tbody>\n",
       "</table>\n",
       "</div>"
      ],
      "text/plain": [
       "   coin    return  variance\n",
       "0   BTC  1.179525  0.566068\n",
       "1   ETC  1.572186  1.471802\n",
       "2   ADA  2.057490  1.319614\n",
       "3  DOGE  3.589713  5.659477\n",
       "4   XRP  0.972929  1.502262"
      ]
     },
     "execution_count": 42,
     "metadata": {},
     "output_type": "execute_result"
    }
   ],
   "source": [
    "final_df.head()"
   ]
  },
  {
   "cell_type": "code",
   "execution_count": 44,
   "id": "77da41da-a1de-405e-9f38-b768929c0fe0",
   "metadata": {},
   "outputs": [],
   "source": [
    "# find optinum number of clusters using elbow method\n",
    "\n",
    "colnames = ['return','variance'] # column names for training\n",
    "inertia = [] # list to hold inertia values for each K value\n",
    "\n",
    "# set training values\n",
    "X = final_df[colnames].values\n",
    "\n",
    "# train model for cluster sizes 2 to 10\n",
    "for k in range(2,10):\n",
    "    kmeans = KMeans(n_clusters=k)\n",
    "    kmeans.fit(X)\n",
    "    inertia.append(kmeans.inertia_) # append inertia to list"
   ]
  },
  {
   "cell_type": "code",
   "execution_count": 54,
   "id": "acd7102e-14ca-4bdd-b0df-befdd8d9875b",
   "metadata": {},
   "outputs": [
    {
     "data": {
      "image/png": "[encoded data removed]",
      "text/plain": [
       "<Figure size 432x288 with 1 Axes>"
      ]
     },
     "metadata": {},
     "output_type": "display_data"
    }
   ],
   "source": [
    "plt.plot(range(2,10), inertia)\n",
    "plt.show()  # best number of clusters k=4"
   ]
  },
  {
   "cell_type": "code",
   "execution_count": 57,
   "id": "78f14f08-cef9-4fd6-bc9b-a70b22b7befe",
   "metadata": {},
   "outputs": [
    {
     "data": {
      "text/html": [
       "<div>\n",
       "<style scoped>\n",
       "    .dataframe tbody tr th:only-of-type {\n",
       "        vertical-align: middle;\n",
       "    }\n",
       "\n",
       "    .dataframe tbody tr th {\n",
       "        vertical-align: top;\n",
       "    }\n",
       "\n",
       "    .dataframe thead th {\n",
       "        text-align: right;\n",
       "    }\n",
       "</style>\n",
       "<table border=\"1\" class=\"dataframe\">\n",
       "  <thead>\n",
       "    <tr style=\"text-align: right;\">\n",
       "      <th></th>\n",
       "      <th>coin</th>\n",
       "      <th>return</th>\n",
       "      <th>variance</th>\n",
       "      <th>cluster</th>\n",
       "    </tr>\n",
       "  </thead>\n",
       "  <tbody>\n",
       "    <tr>\n",
       "      <th>0</th>\n",
       "      <td>BTC</td>\n",
       "      <td>1.179525</td>\n",
       "      <td>0.566068</td>\n",
       "      <td>0</td>\n",
       "    </tr>\n",
       "    <tr>\n",
       "      <th>1</th>\n",
       "      <td>ETC</td>\n",
       "      <td>1.572186</td>\n",
       "      <td>1.471802</td>\n",
       "      <td>0</td>\n",
       "    </tr>\n",
       "    <tr>\n",
       "      <th>2</th>\n",
       "      <td>ADA</td>\n",
       "      <td>2.057490</td>\n",
       "      <td>1.319614</td>\n",
       "      <td>0</td>\n",
       "    </tr>\n",
       "    <tr>\n",
       "      <th>3</th>\n",
       "      <td>DOGE</td>\n",
       "      <td>3.589713</td>\n",
       "      <td>5.659477</td>\n",
       "      <td>0</td>\n",
       "    </tr>\n",
       "    <tr>\n",
       "      <th>4</th>\n",
       "      <td>XRP</td>\n",
       "      <td>0.972929</td>\n",
       "      <td>1.502262</td>\n",
       "      <td>0</td>\n",
       "    </tr>\n",
       "  </tbody>\n",
       "</table>\n",
       "</div>"
      ],
      "text/plain": [
       "   coin    return  variance  cluster\n",
       "0   BTC  1.179525  0.566068        0\n",
       "1   ETC  1.572186  1.471802        0\n",
       "2   ADA  2.057490  1.319614        0\n",
       "3  DOGE  3.589713  5.659477        0\n",
       "4   XRP  0.972929  1.502262        0"
      ]
     },
     "execution_count": 57,
     "metadata": {},
     "output_type": "execute_result"
    }
   ],
   "source": [
    "# kmeans clustering for k=4\n",
    "kmeans = KMeans(n_clusters=4).fit(X)\n",
    "labels = kmeans.labels_\n",
    "\n",
    "# add labels to dataframe\n",
    "final_df['cluster'] = labels\n",
    "\n",
    "final_df.head()"
   ]
  },
  {
   "cell_type": "code",
   "execution_count": 70,
   "id": "9e0e0b2f-a1df-4f33-b5f3-d0fad6366de1",
   "metadata": {},
   "outputs": [
    {
     "data": {
      "text/plain": [
       "936.2889080574914"
      ]
     },
     "execution_count": 70,
     "metadata": {},
     "output_type": "execute_result"
    }
   ],
   "source": [
    "final_df['variance'].max()"
   ]
  },
  {
   "cell_type": "code",
   "execution_count": 71,
   "id": "18c61d57-2693-448a-9b2c-b01287360d0e",
   "metadata": {},
   "outputs": [
    {
     "data": {
      "text/html": [
       "<div>\n",
       "<style scoped>\n",
       "    .dataframe tbody tr th:only-of-type {\n",
       "        vertical-align: middle;\n",
       "    }\n",
       "\n",
       "    .dataframe tbody tr th {\n",
       "        vertical-align: top;\n",
       "    }\n",
       "\n",
       "    .dataframe thead th {\n",
       "        text-align: right;\n",
       "    }\n",
       "</style>\n",
       "<table border=\"1\" class=\"dataframe\">\n",
       "  <thead>\n",
       "    <tr style=\"text-align: right;\">\n",
       "      <th></th>\n",
       "      <th>coin</th>\n",
       "      <th>return</th>\n",
       "      <th>variance</th>\n",
       "      <th>cluster</th>\n",
       "    </tr>\n",
       "  </thead>\n",
       "  <tbody>\n",
       "    <tr>\n",
       "      <th>31</th>\n",
       "      <td>CHZ</td>\n",
       "      <td>19.917897</td>\n",
       "      <td>936.288908</td>\n",
       "      <td>1</td>\n",
       "    </tr>\n",
       "  </tbody>\n",
       "</table>\n",
       "</div>"
      ],
      "text/plain": [
       "   coin     return    variance  cluster\n",
       "31  CHZ  19.917897  936.288908        1"
      ]
     },
     "execution_count": 71,
     "metadata": {},
     "output_type": "execute_result"
    }
   ],
   "source": [
    "final_df[final_df.variance>900]  "
   ]
  },
  {
   "cell_type": "code",
   "execution_count": 69,
   "id": "d9daa484-0d12-4476-9e69-5411da8a5d80",
   "metadata": {},
   "outputs": [
    {
     "data": {
      "image/png": "[encoded data removed]",
      "text/plain": [
       "<Figure size 432x288 with 1 Axes>"
      ]
     },
     "metadata": {},
     "output_type": "display_data"
    }
   ],
   "source": [
    "# plot clusters\n",
    "plt.scatter(X[:,1],X[:,0], c=labels, cmap='rainbow')\n",
    "plt.title('Clusters Using K-means')\n",
    "plt.xlabel('Variance')\n",
    "plt.ylabel('Expected Returns')\n",
    "plt.show()"
   ]
  },
  {
   "cell_type": "code",
   "execution_count": 72,
   "id": "522b7a4e-4a9c-463b-8bb3-66e067b0e823",
   "metadata": {},
   "outputs": [
    {
     "data": {
      "text/plain": [
       "array([0, 0, 0, 0, 0, 0, 0, 0, 0, 2, 0, 0, 0, 0, 0, 0, 0, 0, 0, 0, 0, 0,\n",
       "       0, 0, 0, 0, 0, 0, 3, 0, 2, 1, 0, 0, 0, 0, 0, 3, 0, 0, 0, 3, 0, 0,\n",
       "       3, 0, 3, 0, 0, 0, 0, 0, 0, 0, 0, 0, 0, 0, 0, 3, 0, 0, 0, 0, 0, 0,\n",
       "       0, 0, 0, 0, 0, 0, 0, 2, 0, 0, 0, 0, 0, 0, 0, 0, 0, 0, 3, 0, 0, 0,\n",
       "       0, 0, 0, 0, 0, 0, 3, 0, 0, 0, 0])"
      ]
     },
     "execution_count": 72,
     "metadata": {},
     "output_type": "execute_result"
    }
   ],
   "source": [
    "labels"
   ]
  }
 ],
 "metadata": {
  "kernelspec": {
   "display_name": "Python 3",
   "language": "python",
   "name": "python3"
  },
  "language_info": {
   "codemirror_mode": {
    "name": "ipython",
    "version": 3
   },
   "file_extension": ".py",
   "mimetype": "text/x-python",
   "name": "python",
   "nbconvert_exporter": "python",
   "pygments_lexer": "ipython3",
   "version": "3.8.10"
  }
 },
 "nbformat": 4,
 "nbformat_minor": 5
}
