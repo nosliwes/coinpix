{
 "cells": [
  {
   "cell_type": "markdown",
   "id": "latin-lightning",
   "metadata": {},
   "source": [
    "#### Cluster analysis to cluster similar coins"
   ]
  },
  {
   "cell_type": "code",
   "execution_count": 4,
   "id": "frequent-physiology",
   "metadata": {},
   "outputs": [],
   "source": [
    "%matplotlib inline\n",
    "# coin price clustering with k-means\n",
    "\n",
    "import pandas as pd\n",
    "import numpy as np\n",
    "from sklearn.cluster import KMeans\n",
    "import matplotlib.pyplot as plt\n",
    "import seaborn\n",
    "\n",
    "import warnings\n",
    "warnings.filterwarnings('ignore')"
   ]
  },
  {
   "cell_type": "code",
   "execution_count": 5,
   "id": "present-spelling",
   "metadata": {},
   "outputs": [],
   "source": [
    "'''\n",
    "Function to load price data from disk \n",
    "'''\n",
    "def load_data(symbol,years,path):\n",
    "    \n",
    "    for count,year in enumerate(years):\n",
    "        if count == 0:\n",
    "            df = pd.read_csv(path + '/' + str(year) + '/' + symbol + '.csv')\n",
    "        else:\n",
    "            df = pd.concat([df,pd.read_csv(path + '/' + str(year) + '/' + symbol + '.csv')]) \n",
    "    \n",
    "    df = df.reset_index(drop=True)\n",
    "    \n",
    "    return df"
   ]
  },
  {
   "cell_type": "code",
   "execution_count": 6,
   "id": "casual-identifier",
   "metadata": {},
   "outputs": [],
   "source": [
    "# set configuration\n",
    "path = '../'  \n",
    "years=[2019,2020,2021]  \n",
    "\n",
    "# get coins to analyze\n",
    "coins = pd.read_csv(path + 'coins.csv',header=None).values[0]    \n",
    "\n",
    "# create an Empty DataFrame object\n",
    "df = pd.DataFrame()\n",
    "\n",
    "# load data for coins into columns\n",
    "for coin in coins:\n",
    "    df[coin] = load_data(coin,years,path+'price-data/')['Close']"
   ]
  },
  {
   "cell_type": "code",
   "execution_count": 7,
   "id": "ongoing-discrimination",
   "metadata": {},
   "outputs": [
    {
     "data": {
      "text/html": [
       "<div>\n",
       "<style scoped>\n",
       "    .dataframe tbody tr th:only-of-type {\n",
       "        vertical-align: middle;\n",
       "    }\n",
       "\n",
       "    .dataframe tbody tr th {\n",
       "        vertical-align: top;\n",
       "    }\n",
       "\n",
       "    .dataframe thead th {\n",
       "        text-align: right;\n",
       "    }\n",
       "</style>\n",
       "<table border=\"1\" class=\"dataframe\">\n",
       "  <thead>\n",
       "    <tr style=\"text-align: right;\">\n",
       "      <th></th>\n",
       "      <th>BTC</th>\n",
       "      <th>ETH</th>\n",
       "      <th>ADA</th>\n",
       "      <th>DOGE</th>\n",
       "      <th>XRP</th>\n",
       "      <th>HEX</th>\n",
       "      <th>BCH</th>\n",
       "      <th>LTC</th>\n",
       "      <th>LINK</th>\n",
       "      <th>MATIC</th>\n",
       "      <th>...</th>\n",
       "      <th>BTS</th>\n",
       "      <th>CVC</th>\n",
       "      <th>DERO</th>\n",
       "      <th>MLN</th>\n",
       "      <th>TOMO</th>\n",
       "      <th>AVA</th>\n",
       "      <th>ARDR</th>\n",
       "      <th>XHV</th>\n",
       "      <th>ETN</th>\n",
       "      <th>BCN</th>\n",
       "    </tr>\n",
       "  </thead>\n",
       "  <tbody>\n",
       "    <tr>\n",
       "      <th>0</th>\n",
       "      <td>3843.520020</td>\n",
       "      <td>140.819412</td>\n",
       "      <td>0.042547</td>\n",
       "      <td>0.002392</td>\n",
       "      <td>0.364771</td>\n",
       "      <td>0.000171</td>\n",
       "      <td>164.854599</td>\n",
       "      <td>31.979931</td>\n",
       "      <td>0.299371</td>\n",
       "      <td>0.004421</td>\n",
       "      <td>...</td>\n",
       "      <td>0.039627</td>\n",
       "      <td>0.054520</td>\n",
       "      <td>0.938746</td>\n",
       "      <td>7.560998</td>\n",
       "      <td>0.307361</td>\n",
       "      <td>0.162806</td>\n",
       "      <td>0.054271</td>\n",
       "      <td>0.710078</td>\n",
       "      <td>0.007622</td>\n",
       "      <td>0.000716</td>\n",
       "    </tr>\n",
       "    <tr>\n",
       "      <th>1</th>\n",
       "      <td>3943.409424</td>\n",
       "      <td>155.047684</td>\n",
       "      <td>0.045258</td>\n",
       "      <td>0.002407</td>\n",
       "      <td>0.375243</td>\n",
       "      <td>0.000265</td>\n",
       "      <td>171.827377</td>\n",
       "      <td>33.433681</td>\n",
       "      <td>0.316489</td>\n",
       "      <td>0.003471</td>\n",
       "      <td>...</td>\n",
       "      <td>0.041815</td>\n",
       "      <td>0.055390</td>\n",
       "      <td>0.928734</td>\n",
       "      <td>8.699044</td>\n",
       "      <td>0.338898</td>\n",
       "      <td>0.153119</td>\n",
       "      <td>0.054969</td>\n",
       "      <td>0.715383</td>\n",
       "      <td>0.007734</td>\n",
       "      <td>0.000725</td>\n",
       "    </tr>\n",
       "    <tr>\n",
       "      <th>2</th>\n",
       "      <td>3836.741211</td>\n",
       "      <td>149.135010</td>\n",
       "      <td>0.042682</td>\n",
       "      <td>0.002360</td>\n",
       "      <td>0.360224</td>\n",
       "      <td>0.000256</td>\n",
       "      <td>162.049927</td>\n",
       "      <td>32.026699</td>\n",
       "      <td>0.365974</td>\n",
       "      <td>0.004478</td>\n",
       "      <td>...</td>\n",
       "      <td>0.039650</td>\n",
       "      <td>0.053987</td>\n",
       "      <td>0.862939</td>\n",
       "      <td>8.319635</td>\n",
       "      <td>0.324398</td>\n",
       "      <td>0.146013</td>\n",
       "      <td>0.054125</td>\n",
       "      <td>0.655627</td>\n",
       "      <td>0.007458</td>\n",
       "      <td>0.000706</td>\n",
       "    </tr>\n",
       "    <tr>\n",
       "      <th>3</th>\n",
       "      <td>3857.717529</td>\n",
       "      <td>154.581940</td>\n",
       "      <td>0.043812</td>\n",
       "      <td>0.002315</td>\n",
       "      <td>0.356747</td>\n",
       "      <td>0.000129</td>\n",
       "      <td>161.395630</td>\n",
       "      <td>32.404167</td>\n",
       "      <td>0.437175</td>\n",
       "      <td>0.004374</td>\n",
       "      <td>...</td>\n",
       "      <td>0.039895</td>\n",
       "      <td>0.054517</td>\n",
       "      <td>0.883271</td>\n",
       "      <td>8.566726</td>\n",
       "      <td>0.287430</td>\n",
       "      <td>0.138265</td>\n",
       "      <td>0.056234</td>\n",
       "      <td>0.678547</td>\n",
       "      <td>0.007379</td>\n",
       "      <td>0.000690</td>\n",
       "    </tr>\n",
       "    <tr>\n",
       "      <th>4</th>\n",
       "      <td>3845.194580</td>\n",
       "      <td>155.638596</td>\n",
       "      <td>0.044701</td>\n",
       "      <td>0.002319</td>\n",
       "      <td>0.355275</td>\n",
       "      <td>0.000218</td>\n",
       "      <td>160.401215</td>\n",
       "      <td>34.936867</td>\n",
       "      <td>0.395948</td>\n",
       "      <td>0.004198</td>\n",
       "      <td>...</td>\n",
       "      <td>0.039658</td>\n",
       "      <td>0.054707</td>\n",
       "      <td>0.910166</td>\n",
       "      <td>8.534426</td>\n",
       "      <td>0.291817</td>\n",
       "      <td>0.135108</td>\n",
       "      <td>0.060984</td>\n",
       "      <td>0.660816</td>\n",
       "      <td>0.007303</td>\n",
       "      <td>0.000707</td>\n",
       "    </tr>\n",
       "    <tr>\n",
       "      <th>...</th>\n",
       "      <td>...</td>\n",
       "      <td>...</td>\n",
       "      <td>...</td>\n",
       "      <td>...</td>\n",
       "      <td>...</td>\n",
       "      <td>...</td>\n",
       "      <td>...</td>\n",
       "      <td>...</td>\n",
       "      <td>...</td>\n",
       "      <td>...</td>\n",
       "      <td>...</td>\n",
       "      <td>...</td>\n",
       "      <td>...</td>\n",
       "      <td>...</td>\n",
       "      <td>...</td>\n",
       "      <td>...</td>\n",
       "      <td>...</td>\n",
       "      <td>...</td>\n",
       "      <td>...</td>\n",
       "      <td>...</td>\n",
       "      <td>...</td>\n",
       "    </tr>\n",
       "    <tr>\n",
       "      <th>899</th>\n",
       "      <td>35698.296875</td>\n",
       "      <td>2231.733154</td>\n",
       "      <td>1.429188</td>\n",
       "      <td>0.280900</td>\n",
       "      <td>0.776377</td>\n",
       "      <td>NaN</td>\n",
       "      <td>557.529602</td>\n",
       "      <td>155.092590</td>\n",
       "      <td>21.735416</td>\n",
       "      <td>NaN</td>\n",
       "      <td>...</td>\n",
       "      <td>0.050484</td>\n",
       "      <td>0.226584</td>\n",
       "      <td>9.542310</td>\n",
       "      <td>85.844887</td>\n",
       "      <td>1.529454</td>\n",
       "      <td>NaN</td>\n",
       "      <td>0.150812</td>\n",
       "      <td>7.931671</td>\n",
       "      <td>0.007143</td>\n",
       "      <td>0.001265</td>\n",
       "    </tr>\n",
       "    <tr>\n",
       "      <th>900</th>\n",
       "      <td>31676.693359</td>\n",
       "      <td>2178.499023</td>\n",
       "      <td>1.177480</td>\n",
       "      <td>0.178691</td>\n",
       "      <td>0.610388</td>\n",
       "      <td>NaN</td>\n",
       "      <td>456.293457</td>\n",
       "      <td>124.786461</td>\n",
       "      <td>17.424097</td>\n",
       "      <td>NaN</td>\n",
       "      <td>...</td>\n",
       "      <td>0.038901</td>\n",
       "      <td>0.173655</td>\n",
       "      <td>11.236687</td>\n",
       "      <td>68.671539</td>\n",
       "      <td>1.453151</td>\n",
       "      <td>NaN</td>\n",
       "      <td>0.111384</td>\n",
       "      <td>7.817036</td>\n",
       "      <td>0.006132</td>\n",
       "      <td>0.000449</td>\n",
       "    </tr>\n",
       "    <tr>\n",
       "      <th>901</th>\n",
       "      <td>32505.660156</td>\n",
       "      <td>2246.364502</td>\n",
       "      <td>1.153254</td>\n",
       "      <td>0.191031</td>\n",
       "      <td>0.545067</td>\n",
       "      <td>NaN</td>\n",
       "      <td>443.783264</td>\n",
       "      <td>119.602684</td>\n",
       "      <td>16.806492</td>\n",
       "      <td>NaN</td>\n",
       "      <td>...</td>\n",
       "      <td>0.040624</td>\n",
       "      <td>0.169500</td>\n",
       "      <td>NaN</td>\n",
       "      <td>62.037579</td>\n",
       "      <td>NaN</td>\n",
       "      <td>NaN</td>\n",
       "      <td>0.101572</td>\n",
       "      <td>NaN</td>\n",
       "      <td>0.005939</td>\n",
       "      <td>0.000695</td>\n",
       "    </tr>\n",
       "    <tr>\n",
       "      <th>902</th>\n",
       "      <td>33723.027344</td>\n",
       "      <td>1888.447510</td>\n",
       "      <td>1.252896</td>\n",
       "      <td>0.232174</td>\n",
       "      <td>0.626535</td>\n",
       "      <td>NaN</td>\n",
       "      <td>469.375641</td>\n",
       "      <td>128.674988</td>\n",
       "      <td>18.387203</td>\n",
       "      <td>NaN</td>\n",
       "      <td>...</td>\n",
       "      <td>0.042401</td>\n",
       "      <td>0.191127</td>\n",
       "      <td>NaN</td>\n",
       "      <td>67.263611</td>\n",
       "      <td>NaN</td>\n",
       "      <td>NaN</td>\n",
       "      <td>0.106878</td>\n",
       "      <td>NaN</td>\n",
       "      <td>0.006223</td>\n",
       "      <td>0.001872</td>\n",
       "    </tr>\n",
       "    <tr>\n",
       "      <th>903</th>\n",
       "      <td>34642.179688</td>\n",
       "      <td>1874.950073</td>\n",
       "      <td>1.353279</td>\n",
       "      <td>0.263005</td>\n",
       "      <td>0.670478</td>\n",
       "      <td>NaN</td>\n",
       "      <td>485.450806</td>\n",
       "      <td>134.454056</td>\n",
       "      <td>19.006079</td>\n",
       "      <td>NaN</td>\n",
       "      <td>...</td>\n",
       "      <td>0.044965</td>\n",
       "      <td>0.196687</td>\n",
       "      <td>NaN</td>\n",
       "      <td>66.166702</td>\n",
       "      <td>NaN</td>\n",
       "      <td>NaN</td>\n",
       "      <td>0.114751</td>\n",
       "      <td>NaN</td>\n",
       "      <td>0.006231</td>\n",
       "      <td>0.000427</td>\n",
       "    </tr>\n",
       "  </tbody>\n",
       "</table>\n",
       "<p>904 rows × 100 columns</p>\n",
       "</div>"
      ],
      "text/plain": [
       "              BTC          ETH       ADA      DOGE       XRP       HEX  \\\n",
       "0     3843.520020   140.819412  0.042547  0.002392  0.364771  0.000171   \n",
       "1     3943.409424   155.047684  0.045258  0.002407  0.375243  0.000265   \n",
       "2     3836.741211   149.135010  0.042682  0.002360  0.360224  0.000256   \n",
       "3     3857.717529   154.581940  0.043812  0.002315  0.356747  0.000129   \n",
       "4     3845.194580   155.638596  0.044701  0.002319  0.355275  0.000218   \n",
       "..            ...          ...       ...       ...       ...       ...   \n",
       "899  35698.296875  2231.733154  1.429188  0.280900  0.776377       NaN   \n",
       "900  31676.693359  2178.499023  1.177480  0.178691  0.610388       NaN   \n",
       "901  32505.660156  2246.364502  1.153254  0.191031  0.545067       NaN   \n",
       "902  33723.027344  1888.447510  1.252896  0.232174  0.626535       NaN   \n",
       "903  34642.179688  1874.950073  1.353279  0.263005  0.670478       NaN   \n",
       "\n",
       "            BCH         LTC       LINK     MATIC  ...       BTS       CVC  \\\n",
       "0    164.854599   31.979931   0.299371  0.004421  ...  0.039627  0.054520   \n",
       "1    171.827377   33.433681   0.316489  0.003471  ...  0.041815  0.055390   \n",
       "2    162.049927   32.026699   0.365974  0.004478  ...  0.039650  0.053987   \n",
       "3    161.395630   32.404167   0.437175  0.004374  ...  0.039895  0.054517   \n",
       "4    160.401215   34.936867   0.395948  0.004198  ...  0.039658  0.054707   \n",
       "..          ...         ...        ...       ...  ...       ...       ...   \n",
       "899  557.529602  155.092590  21.735416       NaN  ...  0.050484  0.226584   \n",
       "900  456.293457  124.786461  17.424097       NaN  ...  0.038901  0.173655   \n",
       "901  443.783264  119.602684  16.806492       NaN  ...  0.040624  0.169500   \n",
       "902  469.375641  128.674988  18.387203       NaN  ...  0.042401  0.191127   \n",
       "903  485.450806  134.454056  19.006079       NaN  ...  0.044965  0.196687   \n",
       "\n",
       "          DERO        MLN      TOMO       AVA      ARDR       XHV       ETN  \\\n",
       "0     0.938746   7.560998  0.307361  0.162806  0.054271  0.710078  0.007622   \n",
       "1     0.928734   8.699044  0.338898  0.153119  0.054969  0.715383  0.007734   \n",
       "2     0.862939   8.319635  0.324398  0.146013  0.054125  0.655627  0.007458   \n",
       "3     0.883271   8.566726  0.287430  0.138265  0.056234  0.678547  0.007379   \n",
       "4     0.910166   8.534426  0.291817  0.135108  0.060984  0.660816  0.007303   \n",
       "..         ...        ...       ...       ...       ...       ...       ...   \n",
       "899   9.542310  85.844887  1.529454       NaN  0.150812  7.931671  0.007143   \n",
       "900  11.236687  68.671539  1.453151       NaN  0.111384  7.817036  0.006132   \n",
       "901        NaN  62.037579       NaN       NaN  0.101572       NaN  0.005939   \n",
       "902        NaN  67.263611       NaN       NaN  0.106878       NaN  0.006223   \n",
       "903        NaN  66.166702       NaN       NaN  0.114751       NaN  0.006231   \n",
       "\n",
       "          BCN  \n",
       "0    0.000716  \n",
       "1    0.000725  \n",
       "2    0.000706  \n",
       "3    0.000690  \n",
       "4    0.000707  \n",
       "..        ...  \n",
       "899  0.001265  \n",
       "900  0.000449  \n",
       "901  0.000695  \n",
       "902  0.001872  \n",
       "903  0.000427  \n",
       "\n",
       "[904 rows x 100 columns]"
      ]
     },
     "execution_count": 7,
     "metadata": {},
     "output_type": "execute_result"
    }
   ],
   "source": [
    "df"
   ]
  },
  {
   "cell_type": "code",
   "execution_count": 8,
   "id": "conceptual-orchestra",
   "metadata": {},
   "outputs": [],
   "source": [
    "# find expected annual returns and variance for clustering\n",
    "expected_return = df.pct_change().mean()*365  # avg yearly return   - measure of profit\n",
    "variance = df.pct_change().var()*365          # avg yearly variance - measure of volatility"
   ]
  },
  {
   "cell_type": "code",
   "execution_count": 9,
   "id": "exotic-corner",
   "metadata": {},
   "outputs": [],
   "source": [
    "# empty dataframe for clustering\n",
    "final_df = pd.DataFrame()\n",
    "\n",
    "# add coins column\n",
    "final_df['coin'] = df.columns\n",
    "\n",
    "# add return values\n",
    "final_df['return'] = expected_return.values\n",
    "\n",
    "# add variance values\n",
    "final_df['variance'] = variance.values"
   ]
  },
  {
   "cell_type": "code",
   "execution_count": 10,
   "id": "adjacent-legend",
   "metadata": {},
   "outputs": [
    {
     "data": {
      "image/png": "[encoded data removed]",
      "text/plain": [
       "<Figure size 432x288 with 1 Axes>"
      ]
     },
     "metadata": {
      "needs_background": "light"
     },
     "output_type": "display_data"
    }
   ],
   "source": [
    "plt.hist(final_df['return'])\n",
    "plt.title('Return Histogram')\n",
    "plt.xlabel('Return')\n",
    "plt.ylabel('Count')\n",
    "plt.show()"
   ]
  },
  {
   "cell_type": "code",
   "execution_count": 11,
   "id": "adjusted-prize",
   "metadata": {},
   "outputs": [
    {
     "data": {
      "image/png": "[encoded data removed]",
      "text/plain": [
       "<Figure size 576x288 with 2 Axes>"
      ]
     },
     "metadata": {
      "needs_background": "light"
     },
     "output_type": "display_data"
    }
   ],
   "source": [
    "fig, (ax1, ax2) = plt.subplots(nrows=1, ncols=2, constrained_layout=True, figsize=(8,4))\n",
    "ax1.boxplot(final_df['return'])\n",
    "ax1.set_title('Return Outliers')\n",
    "\n",
    "ax2.boxplot(final_df['variance'])\n",
    "ax2.set_title('Variance Outliers')\n",
    "\n",
    "fig.tight_layout(pad=0.0)\n",
    "\n",
    "plt.show()"
   ]
  },
  {
   "cell_type": "code",
   "execution_count": 13,
   "id": "quiet-prevention",
   "metadata": {},
   "outputs": [],
   "source": [
    "# remove outliers\n",
    "drop_coins = ['CHZ','XWC']\n",
    "test_df = final_df[~final_df['coin'].isin(drop_coins)] "
   ]
  },
  {
   "cell_type": "code",
   "execution_count": 14,
   "id": "confidential-renewal",
   "metadata": {},
   "outputs": [
    {
     "data": {
      "image/png": "[encoded data removed]",
      "text/plain": [
       "<Figure size 576x288 with 2 Axes>"
      ]
     },
     "metadata": {
      "needs_background": "light"
     },
     "output_type": "display_data"
    }
   ],
   "source": [
    "fig, (ax1, ax2) = plt.subplots(nrows=1, ncols=2, constrained_layout=True, figsize=(8,4))\n",
    "ax1.boxplot(test_df['return'])\n",
    "ax1.set_title('Return Outliers')\n",
    "\n",
    "ax2.boxplot(test_df['variance'])\n",
    "ax2.set_title('Variance Outliers')\n",
    "\n",
    "fig.tight_layout(pad=0.0)\n",
    "\n",
    "plt.show()"
   ]
  },
  {
   "cell_type": "code",
   "execution_count": 15,
   "id": "collect-virus",
   "metadata": {},
   "outputs": [
    {
     "data": {
      "image/png": "[encoded data removed]",
      "text/plain": [
       "<Figure size 432x288 with 1 Axes>"
      ]
     },
     "metadata": {
      "needs_background": "light"
     },
     "output_type": "display_data"
    },
    {
     "data": {
      "image/png": "[encoded data removed]",
      "text/plain": [
       "<Figure size 432x288 with 1 Axes>"
      ]
     },
     "metadata": {
      "needs_background": "light"
     },
     "output_type": "display_data"
    }
   ],
   "source": [
    "plt.boxplot(final_df['return'])\n",
    "plt.title('Return Outliers')\n",
    "plt.show()\n",
    "\n",
    "plt.boxplot(final_df['variance'])\n",
    "plt.title('Variance Outliers')\n",
    "plt.show()"
   ]
  },
  {
   "cell_type": "code",
   "execution_count": 16,
   "id": "loose-command",
   "metadata": {},
   "outputs": [
    {
     "data": {
      "image/png": "[encoded data removed]",
      "text/plain": [
       "<Figure size 432x288 with 1 Axes>"
      ]
     },
     "metadata": {
      "needs_background": "light"
     },
     "output_type": "display_data"
    }
   ],
   "source": [
    "plt.hist(final_df['variance'])\n",
    "plt.title('Variance Histogram')\n",
    "plt.xlabel('Variance')\n",
    "plt.ylabel('Count')\n",
    "plt.show()"
   ]
  },
  {
   "cell_type": "code",
   "execution_count": 17,
   "id": "speaking-future",
   "metadata": {},
   "outputs": [
    {
     "data": {
      "image/png": "[encoded data removed]",
      "text/plain": [
       "<Figure size 432x288 with 1 Axes>"
      ]
     },
     "metadata": {
      "needs_background": "light"
     },
     "output_type": "display_data"
    }
   ],
   "source": [
    "plt.boxplot(final_df['variance'])\n",
    "plt.title('Variance Outliers')\n",
    "plt.show()"
   ]
  },
  {
   "cell_type": "code",
   "execution_count": 18,
   "id": "official-martial",
   "metadata": {},
   "outputs": [],
   "source": [
    "# remove outliers\n",
    "drop_coins = ['CHZ','XWC']\n",
    "final_df = final_df[~final_df['coin'].isin(drop_coins)] "
   ]
  },
  {
   "cell_type": "code",
   "execution_count": 19,
   "id": "revised-botswana",
   "metadata": {},
   "outputs": [],
   "source": [
    "# save final dataframe for coinpix application\n",
    "final_df.to_csv('../returns.csv')"
   ]
  },
  {
   "cell_type": "code",
   "execution_count": 20,
   "id": "obvious-complement",
   "metadata": {},
   "outputs": [],
   "source": [
    "# find optinum number of clusters using elbow method\n",
    "\n",
    "colnames = ['return','variance'] # column names for training\n",
    "inertia = [] # list to hold inertia values for each K value\n",
    "\n",
    "# set training values\n",
    "X = final_df[colnames].values\n",
    "\n",
    "# train model for cluster sizes 2 to 10\n",
    "for k in range(2,10):\n",
    "    kmeans = KMeans(n_clusters=k)\n",
    "    kmeans.fit(X)\n",
    "    inertia.append(kmeans.inertia_) # append inertia to list"
   ]
  },
  {
   "cell_type": "code",
   "execution_count": 21,
   "id": "competitive-transportation",
   "metadata": {},
   "outputs": [
    {
     "data": {
      "image/png": "[encoded data removed]",
      "text/plain": [
       "<Figure size 432x288 with 1 Axes>"
      ]
     },
     "metadata": {},
     "output_type": "display_data"
    }
   ],
   "source": [
    "plt.style.use('fivethirtyeight')\n",
    "plt.plot(range(2,10), inertia)\n",
    "plt.title(\"Elbow Plot For Kmeans\")\n",
    "plt.xlabel(\"Number of Clusters\")\n",
    "plt.ylabel(\"WCSS\")\n",
    "plt.show()  # best number of clusters k=4"
   ]
  },
  {
   "cell_type": "code",
   "execution_count": 22,
   "id": "blocked-acrobat",
   "metadata": {},
   "outputs": [
    {
     "name": "stdout",
     "output_type": "stream",
     "text": [
      "['Solarize_Light2', '_classic_test_patch', 'bmh', 'classic', 'dark_background', 'fast', 'fivethirtyeight', 'ggplot', 'grayscale', 'seaborn', 'seaborn-bright', 'seaborn-colorblind', 'seaborn-dark', 'seaborn-dark-palette', 'seaborn-darkgrid', 'seaborn-deep', 'seaborn-muted', 'seaborn-notebook', 'seaborn-paper', 'seaborn-pastel', 'seaborn-poster', 'seaborn-talk', 'seaborn-ticks', 'seaborn-white', 'seaborn-whitegrid', 'tableau-colorblind10']\n"
     ]
    }
   ],
   "source": [
    "print(plt.style.available)"
   ]
  },
  {
   "cell_type": "code",
   "execution_count": 23,
   "id": "secure-louisiana",
   "metadata": {},
   "outputs": [
    {
     "data": {
      "text/html": [
       "<div>\n",
       "<style scoped>\n",
       "    .dataframe tbody tr th:only-of-type {\n",
       "        vertical-align: middle;\n",
       "    }\n",
       "\n",
       "    .dataframe tbody tr th {\n",
       "        vertical-align: top;\n",
       "    }\n",
       "\n",
       "    .dataframe thead th {\n",
       "        text-align: right;\n",
       "    }\n",
       "</style>\n",
       "<table border=\"1\" class=\"dataframe\">\n",
       "  <thead>\n",
       "    <tr style=\"text-align: right;\">\n",
       "      <th></th>\n",
       "      <th>coin</th>\n",
       "      <th>return</th>\n",
       "      <th>variance</th>\n",
       "      <th>cluster</th>\n",
       "    </tr>\n",
       "  </thead>\n",
       "  <tbody>\n",
       "    <tr>\n",
       "      <th>0</th>\n",
       "      <td>BTC</td>\n",
       "      <td>1.179525</td>\n",
       "      <td>0.566068</td>\n",
       "      <td>0</td>\n",
       "    </tr>\n",
       "    <tr>\n",
       "      <th>1</th>\n",
       "      <td>ETH</td>\n",
       "      <td>1.528369</td>\n",
       "      <td>0.932081</td>\n",
       "      <td>0</td>\n",
       "    </tr>\n",
       "    <tr>\n",
       "      <th>2</th>\n",
       "      <td>ADA</td>\n",
       "      <td>2.057490</td>\n",
       "      <td>1.319614</td>\n",
       "      <td>0</td>\n",
       "    </tr>\n",
       "    <tr>\n",
       "      <th>3</th>\n",
       "      <td>DOGE</td>\n",
       "      <td>3.589713</td>\n",
       "      <td>5.659477</td>\n",
       "      <td>0</td>\n",
       "    </tr>\n",
       "    <tr>\n",
       "      <th>4</th>\n",
       "      <td>XRP</td>\n",
       "      <td>0.972929</td>\n",
       "      <td>1.502262</td>\n",
       "      <td>0</td>\n",
       "    </tr>\n",
       "  </tbody>\n",
       "</table>\n",
       "</div>"
      ],
      "text/plain": [
       "   coin    return  variance  cluster\n",
       "0   BTC  1.179525  0.566068        0\n",
       "1   ETH  1.528369  0.932081        0\n",
       "2   ADA  2.057490  1.319614        0\n",
       "3  DOGE  3.589713  5.659477        0\n",
       "4   XRP  0.972929  1.502262        0"
      ]
     },
     "execution_count": 23,
     "metadata": {},
     "output_type": "execute_result"
    }
   ],
   "source": [
    "# kmeans clustering for k=4\n",
    "kmeans = KMeans(n_clusters=3).fit(X)\n",
    "labels = kmeans.labels_\n",
    "\n",
    "# add labels to dataframe\n",
    "final_df['cluster'] = labels\n",
    "\n",
    "final_df.head()"
   ]
  },
  {
   "cell_type": "code",
   "execution_count": 24,
   "id": "innocent-heather",
   "metadata": {},
   "outputs": [
    {
     "data": {
      "image/png": "[encoded data removed]",
      "text/plain": [
       "<Figure size 432x288 with 1 Axes>"
      ]
     },
     "metadata": {},
     "output_type": "display_data"
    }
   ],
   "source": [
    "# plot clusters\n",
    "plt.style.use('fivethirtyeight')\n",
    "plt.scatter(X[:,1],X[:,0], c=labels, cmap='rainbow')\n",
    "plt.title('Clusters Using K-means')\n",
    "plt.xlabel('Variance')\n",
    "plt.ylabel('Expected Returns')\n",
    "plt.show()"
   ]
  },
  {
   "cell_type": "code",
   "execution_count": 25,
   "id": "viral-recording",
   "metadata": {},
   "outputs": [
    {
     "data": {
      "text/plain": [
       "271.63057269437815"
      ]
     },
     "execution_count": 25,
     "metadata": {},
     "output_type": "execute_result"
    }
   ],
   "source": [
    "# appears to be a couple of outliers that are affecting the results\n",
    "final_df['variance'].max()"
   ]
  },
  {
   "cell_type": "code",
   "execution_count": 26,
   "id": "spiritual-duncan",
   "metadata": {},
   "outputs": [
    {
     "data": {
      "text/html": [
       "<div>\n",
       "<style scoped>\n",
       "    .dataframe tbody tr th:only-of-type {\n",
       "        vertical-align: middle;\n",
       "    }\n",
       "\n",
       "    .dataframe tbody tr th {\n",
       "        vertical-align: top;\n",
       "    }\n",
       "\n",
       "    .dataframe thead th {\n",
       "        text-align: right;\n",
       "    }\n",
       "</style>\n",
       "<table border=\"1\" class=\"dataframe\">\n",
       "  <thead>\n",
       "    <tr style=\"text-align: right;\">\n",
       "      <th></th>\n",
       "      <th>coin</th>\n",
       "      <th>return</th>\n",
       "      <th>variance</th>\n",
       "      <th>cluster</th>\n",
       "    </tr>\n",
       "  </thead>\n",
       "  <tbody>\n",
       "  </tbody>\n",
       "</table>\n",
       "</div>"
      ],
      "text/plain": [
       "Empty DataFrame\n",
       "Columns: [coin, return, variance, cluster]\n",
       "Index: []"
      ]
     },
     "execution_count": 26,
     "metadata": {},
     "output_type": "execute_result"
    }
   ],
   "source": [
    "# show coins with variance above 900\n",
    "final_df[final_df.variance>900]  "
   ]
  },
  {
   "cell_type": "code",
   "execution_count": 27,
   "id": "southeast-anatomy",
   "metadata": {},
   "outputs": [
    {
     "data": {
      "text/html": [
       "<div>\n",
       "<style scoped>\n",
       "    .dataframe tbody tr th:only-of-type {\n",
       "        vertical-align: middle;\n",
       "    }\n",
       "\n",
       "    .dataframe tbody tr th {\n",
       "        vertical-align: top;\n",
       "    }\n",
       "\n",
       "    .dataframe thead th {\n",
       "        text-align: right;\n",
       "    }\n",
       "</style>\n",
       "<table border=\"1\" class=\"dataframe\">\n",
       "  <thead>\n",
       "    <tr style=\"text-align: right;\">\n",
       "      <th></th>\n",
       "      <th>coin</th>\n",
       "      <th>return</th>\n",
       "      <th>variance</th>\n",
       "      <th>cluster</th>\n",
       "    </tr>\n",
       "  </thead>\n",
       "  <tbody>\n",
       "  </tbody>\n",
       "</table>\n",
       "</div>"
      ],
      "text/plain": [
       "Empty DataFrame\n",
       "Columns: [coin, return, variance, cluster]\n",
       "Index: []"
      ]
     },
     "execution_count": 27,
     "metadata": {},
     "output_type": "execute_result"
    }
   ],
   "source": [
    "# show coins with returns above 15%\n",
    "final_df[final_df['return']>15]"
   ]
  },
  {
   "cell_type": "code",
   "execution_count": 28,
   "id": "inappropriate-constraint",
   "metadata": {},
   "outputs": [],
   "source": [
    "# remove these coins and repeat analysis\n",
    "modified_df = final_df[final_df['return']<15]"
   ]
  },
  {
   "cell_type": "code",
   "execution_count": 29,
   "id": "painted-tuesday",
   "metadata": {},
   "outputs": [
    {
     "data": {
      "image/png": "[encoded data removed]",
      "text/plain": [
       "<Figure size 432x288 with 1 Axes>"
      ]
     },
     "metadata": {},
     "output_type": "display_data"
    }
   ],
   "source": [
    "# set training values\n",
    "X = modified_df[colnames].values\n",
    "\n",
    "# kmeans clustering for k=3\n",
    "kmeans = KMeans(n_clusters=3).fit(X)\n",
    "labels = kmeans.labels_\n",
    "\n",
    "# add labels to dataframe\n",
    "modified_df['cluster'] = labels\n",
    "\n",
    "# plot clusters\n",
    "plt.scatter(X[:,1],X[:,0], c=labels, cmap='jet')\n",
    "plt.title('Clusters Using K-means')\n",
    "plt.xlabel('Variance')\n",
    "plt.ylabel('Expected Returns')\n",
    "plt.show()"
   ]
  },
  {
   "cell_type": "code",
   "execution_count": 30,
   "id": "a88ec0bd-53b3-4bb9-ba9c-07fec7c6e02e",
   "metadata": {},
   "outputs": [
    {
     "data": {
      "text/html": [
       "<div>\n",
       "<style scoped>\n",
       "    .dataframe tbody tr th:only-of-type {\n",
       "        vertical-align: middle;\n",
       "    }\n",
       "\n",
       "    .dataframe tbody tr th {\n",
       "        vertical-align: top;\n",
       "    }\n",
       "\n",
       "    .dataframe thead th {\n",
       "        text-align: right;\n",
       "    }\n",
       "</style>\n",
       "<table border=\"1\" class=\"dataframe\">\n",
       "  <thead>\n",
       "    <tr style=\"text-align: right;\">\n",
       "      <th></th>\n",
       "      <th>coin</th>\n",
       "      <th>return</th>\n",
       "      <th>variance</th>\n",
       "      <th>cluster</th>\n",
       "    </tr>\n",
       "  </thead>\n",
       "  <tbody>\n",
       "    <tr>\n",
       "      <th>0</th>\n",
       "      <td>BTC</td>\n",
       "      <td>1.179525</td>\n",
       "      <td>0.566068</td>\n",
       "      <td>0</td>\n",
       "    </tr>\n",
       "    <tr>\n",
       "      <th>1</th>\n",
       "      <td>ETH</td>\n",
       "      <td>1.528369</td>\n",
       "      <td>0.932081</td>\n",
       "      <td>0</td>\n",
       "    </tr>\n",
       "    <tr>\n",
       "      <th>2</th>\n",
       "      <td>ADA</td>\n",
       "      <td>2.057490</td>\n",
       "      <td>1.319614</td>\n",
       "      <td>0</td>\n",
       "    </tr>\n",
       "    <tr>\n",
       "      <th>3</th>\n",
       "      <td>DOGE</td>\n",
       "      <td>3.589713</td>\n",
       "      <td>5.659477</td>\n",
       "      <td>0</td>\n",
       "    </tr>\n",
       "    <tr>\n",
       "      <th>4</th>\n",
       "      <td>XRP</td>\n",
       "      <td>0.972929</td>\n",
       "      <td>1.502262</td>\n",
       "      <td>0</td>\n",
       "    </tr>\n",
       "    <tr>\n",
       "      <th>...</th>\n",
       "      <td>...</td>\n",
       "      <td>...</td>\n",
       "      <td>...</td>\n",
       "      <td>...</td>\n",
       "    </tr>\n",
       "    <tr>\n",
       "      <th>95</th>\n",
       "      <td>AVA</td>\n",
       "      <td>6.046762</td>\n",
       "      <td>68.050562</td>\n",
       "      <td>2</td>\n",
       "    </tr>\n",
       "    <tr>\n",
       "      <th>96</th>\n",
       "      <td>ARDR</td>\n",
       "      <td>1.064982</td>\n",
       "      <td>1.548637</td>\n",
       "      <td>0</td>\n",
       "    </tr>\n",
       "    <tr>\n",
       "      <th>97</th>\n",
       "      <td>XHV</td>\n",
       "      <td>2.467752</td>\n",
       "      <td>3.044253</td>\n",
       "      <td>0</td>\n",
       "    </tr>\n",
       "    <tr>\n",
       "      <th>98</th>\n",
       "      <td>ETN</td>\n",
       "      <td>0.848945</td>\n",
       "      <td>2.160986</td>\n",
       "      <td>0</td>\n",
       "    </tr>\n",
       "    <tr>\n",
       "      <th>99</th>\n",
       "      <td>BCN</td>\n",
       "      <td>5.164898</td>\n",
       "      <td>17.820986</td>\n",
       "      <td>0</td>\n",
       "    </tr>\n",
       "  </tbody>\n",
       "</table>\n",
       "<p>98 rows × 4 columns</p>\n",
       "</div>"
      ],
      "text/plain": [
       "    coin    return   variance  cluster\n",
       "0    BTC  1.179525   0.566068        0\n",
       "1    ETH  1.528369   0.932081        0\n",
       "2    ADA  2.057490   1.319614        0\n",
       "3   DOGE  3.589713   5.659477        0\n",
       "4    XRP  0.972929   1.502262        0\n",
       "..   ...       ...        ...      ...\n",
       "95   AVA  6.046762  68.050562        2\n",
       "96  ARDR  1.064982   1.548637        0\n",
       "97   XHV  2.467752   3.044253        0\n",
       "98   ETN  0.848945   2.160986        0\n",
       "99   BCN  5.164898  17.820986        0\n",
       "\n",
       "[98 rows x 4 columns]"
      ]
     },
     "execution_count": 30,
     "metadata": {},
     "output_type": "execute_result"
    }
   ],
   "source": [
    "modified_df"
   ]
  },
  {
   "cell_type": "code",
   "execution_count": 31,
   "id": "8db3f8be-e3e5-4706-80c8-351ecec18443",
   "metadata": {},
   "outputs": [],
   "source": [
    "modified_df.to_csv('clusters.csv')"
   ]
  }
 ],
 "metadata": {
  "kernelspec": {
   "display_name": "Python 3",
   "language": "python",
   "name": "python3"
  },
  "language_info": {
   "codemirror_mode": {
    "name": "ipython",
    "version": 3
   },
   "file_extension": ".py",
   "mimetype": "text/x-python",
   "name": "python",
   "nbconvert_exporter": "python",
   "pygments_lexer": "ipython3",
   "version": "3.8.8"
  }
 },
 "nbformat": 4,
 "nbformat_minor": 5
}
