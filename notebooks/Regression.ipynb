{
 "cells": [
  {
   "cell_type": "code",
   "execution_count": 76,
   "id": "4c035d29",
   "metadata": {},
   "outputs": [
    {
     "name": "stderr",
     "output_type": "stream",
     "text": [
      "<ipython-input-76-26b0f70d96e2>:8: FutureWarning: The default value of regex will change from True to False in a future version.\n",
      "  data.iloc[:, 0] = data.iloc[:, 0].str.replace('\\D', '').astype(int)\n"
     ]
    },
    {
     "name": "stdout",
     "output_type": "stream",
     "text": [
      "0      20210101\n",
      "1      20210102\n",
      "2      20210103\n",
      "3      20210104\n",
      "4      20210105\n",
      "         ...   \n",
      "170    20210619\n",
      "171    20210620\n",
      "172    20210621\n",
      "173    20210622\n",
      "174    20210624\n",
      "Name: Date, Length: 175, dtype: int32\n"
     ]
    },
    {
     "data": {
      "image/png": "[encoded data removed]",
      "text/plain": [
       "<Figure size 432x288 with 1 Axes>"
      ]
     },
     "metadata": {
      "needs_background": "light"
     },
     "output_type": "display_data"
    }
   ],
   "source": [
    "import numpy as np\n",
    "import matplotlib.pyplot as plt  # To visualize\n",
    "import pandas as pd  # To read data\n",
    "from sklearn.linear_model import LinearRegression\n",
    "\n",
    "data = pd.read_csv('C:/Users/Chris Nguyen/Downloads/BTC.csv')  # load data set\n",
    "data.iloc[:, 0] = data.iloc[:, 0].astype(str)\n",
    "data.iloc[:, 0] = data.iloc[:, 0].str.replace('\\D', '').astype(int)\n",
    "print(data.iloc[:,0])\n",
    "#data.iloc[:, 0].apply(lambda x:x.toordinal())\n",
    "X = data.iloc[:, 0].values.reshape(-1, 1)  # values converts it into a numpy array\n",
    "Y = data.iloc[:, 4].values.reshape(-1, 1)  # -1 means that calculate the dimension of rows, but have 1 column\n",
    "linear_regressor = LinearRegression()  # create object for the class\n",
    "linear_regressor.fit(X, Y)\n",
    "Y_pred = linear_regressor.predict(X)  # make predictions\n",
    "plt.scatter(X, Y)\n",
    "plt.plot(X, Y_pred, color='red')\n",
    "plt.show()"
   ]
  },
  {
   "cell_type": "code",
   "execution_count": 50,
   "id": "7361d53a",
   "metadata": {},
   "outputs": [
    {
     "name": "stdout",
     "output_type": "stream",
     "text": [
      "r2 Score Of Test Set : 1.0\n"
     ]
    },
    {
     "name": "stderr",
     "output_type": "stream",
     "text": [
      "c:\\users\\chris nguyen\\appdata\\local\\programs\\python\\python39\\lib\\site-packages\\sklearn\\utils\\validation.py:63: DataConversionWarning: A column-vector y was passed when a 1d array was expected. Please change the shape of y to (n_samples, ), for example using ravel().\n",
      "  return f(*args, **kwargs)\n"
     ]
    }
   ],
   "source": [
    "# Importing modeules that are required\n",
    "from sklearn.datasets import load_boston\n",
    "from sklearn.model_selection import train_test_split\n",
    "from sklearn.metrics import r2_score\n",
    "from sklearn.linear_model import BayesianRidge\n",
    "  \n",
    "# Loading dataset\n",
    "#dataset = load_boston()\n",
    "data = pd.read_csv('C:/Users/Chris Nguyen/Downloads/BTC.csv')  # load data set\n",
    "#X = data.iloc[:, 2].values.reshape(-1, 1)  # values converts it into a numpy array\n",
    "#Y = data.iloc[:, 1].values.reshape(-1, 1)  # -1 means that calculate the dimension of rows, but have 1 column\n",
    "X, y = data.High.array.reshape(-1,1), data.Low\n",
    "\n",
    "  \n",
    "# Splitting dataset into training and testing sets\n",
    "X_train, X_test, y_train, y_test = train_test_split(X, Y, test_size = 0.15, random_state = 42)\n",
    "  \n",
    "# Creating and training model\n",
    "model = BayesianRidge()\n",
    "model.fit(X_train, y_train)\n",
    "  \n",
    "# Model making a prediction on test data\n",
    "prediction = model.predict(X_test)\n",
    "  \n",
    "# Evaluation of r2 score of the model against the test set\n",
    "print(f\"r2 Score Of Test Set : {r2_score(y_test, prediction)}\")"
   ]
  },
  {
   "cell_type": "code",
   "execution_count": 52,
   "id": "06b4117d",
   "metadata": {},
   "outputs": [
    {
     "ename": "ValueError",
     "evalue": "           Date          High           Low          Open         Close  \\\n0    2021-01-01  29600.626953  28803.585938  28994.009766  29374.152344   \n1    2021-01-02  33155.117188  29091.181641  29376.455078  32127.267578   \n2    2021-01-03  34608.558594  32052.316406  32129.408203  32782.023438   \n3    2021-01-04  33440.218750  28722.755859  32810.949219  31971.914062   \n4    2021-01-05  34437.589844  30221.187500  31977.041016  33992.429688   \n..          ...           ...           ...           ...           ...   \n170  2021-06-19  36059.484375  33432.074219  35563.140625  35698.296875   \n171  2021-06-20  35721.640625  31295.935547  35641.144531  31676.693359   \n172  2021-06-21  33292.453125  28893.621094  31622.376953  32505.660156   \n173  2021-06-22  34753.410156  31772.632812  32515.714844  33723.027344   \n174  2021-06-24  35152.718750  32385.214844  33593.867188  34642.179688   \n\n           Volume     Adj Close  \n0    4.073030e+10  29374.152344  \n1    6.786542e+10  32127.267578  \n2    7.866524e+10  32782.023438  \n3    8.116348e+10  31971.914062  \n4    6.754732e+10  33992.429688  \n..            ...           ...  \n170  3.666403e+10  35698.296875  \n171  5.280904e+10  31676.693359  \n172  5.896435e+10  32505.660156  \n173  4.631711e+10  33723.027344  \n174  3.273700e+10  34642.179688  \n\n[175 rows x 7 columns] cannot be used to seed a numpy.random.RandomState instance",
     "output_type": "error",
     "traceback": [
      "\u001b[1;31m---------------------------------------------------------------------------\u001b[0m",
      "\u001b[1;31mValueError\u001b[0m                                Traceback (most recent call last)",
      "\u001b[1;32m<ipython-input-52-9bf766840190>\u001b[0m in \u001b[0;36m<module>\u001b[1;34m\u001b[0m\n\u001b[0;32m     16\u001b[0m \u001b[1;33m\u001b[0m\u001b[0m\n\u001b[0;32m     17\u001b[0m \u001b[0mregr_1\u001b[0m\u001b[1;33m.\u001b[0m\u001b[0mfit\u001b[0m\u001b[1;33m(\u001b[0m\u001b[0mX\u001b[0m\u001b[1;33m,\u001b[0m \u001b[0my\u001b[0m\u001b[1;33m)\u001b[0m\u001b[1;33m\u001b[0m\u001b[1;33m\u001b[0m\u001b[0m\n\u001b[1;32m---> 18\u001b[1;33m \u001b[0mregr_2\u001b[0m\u001b[1;33m.\u001b[0m\u001b[0mfit\u001b[0m\u001b[1;33m(\u001b[0m\u001b[0mX\u001b[0m\u001b[1;33m,\u001b[0m \u001b[0my\u001b[0m\u001b[1;33m)\u001b[0m\u001b[1;33m\u001b[0m\u001b[1;33m\u001b[0m\u001b[0m\n\u001b[0m\u001b[0;32m     19\u001b[0m \u001b[1;33m\u001b[0m\u001b[0m\n\u001b[0;32m     20\u001b[0m \u001b[1;31m# Predict\u001b[0m\u001b[1;33m\u001b[0m\u001b[1;33m\u001b[0m\u001b[1;33m\u001b[0m\u001b[0m\n",
      "\u001b[1;32mc:\\users\\chris nguyen\\appdata\\local\\programs\\python\\python39\\lib\\site-packages\\sklearn\\ensemble\\_weight_boosting.py\u001b[0m in \u001b[0;36mfit\u001b[1;34m(self, X, y, sample_weight)\u001b[0m\n\u001b[0;32m   1006\u001b[0m \u001b[1;33m\u001b[0m\u001b[0m\n\u001b[0;32m   1007\u001b[0m         \u001b[1;31m# Fit\u001b[0m\u001b[1;33m\u001b[0m\u001b[1;33m\u001b[0m\u001b[1;33m\u001b[0m\u001b[0m\n\u001b[1;32m-> 1008\u001b[1;33m         \u001b[1;32mreturn\u001b[0m \u001b[0msuper\u001b[0m\u001b[1;33m(\u001b[0m\u001b[1;33m)\u001b[0m\u001b[1;33m.\u001b[0m\u001b[0mfit\u001b[0m\u001b[1;33m(\u001b[0m\u001b[0mX\u001b[0m\u001b[1;33m,\u001b[0m \u001b[0my\u001b[0m\u001b[1;33m,\u001b[0m \u001b[0msample_weight\u001b[0m\u001b[1;33m)\u001b[0m\u001b[1;33m\u001b[0m\u001b[1;33m\u001b[0m\u001b[0m\n\u001b[0m\u001b[0;32m   1009\u001b[0m \u001b[1;33m\u001b[0m\u001b[0m\n\u001b[0;32m   1010\u001b[0m     \u001b[1;32mdef\u001b[0m \u001b[0m_validate_estimator\u001b[0m\u001b[1;33m(\u001b[0m\u001b[0mself\u001b[0m\u001b[1;33m)\u001b[0m\u001b[1;33m:\u001b[0m\u001b[1;33m\u001b[0m\u001b[1;33m\u001b[0m\u001b[0m\n",
      "\u001b[1;32mc:\\users\\chris nguyen\\appdata\\local\\programs\\python\\python39\\lib\\site-packages\\sklearn\\ensemble\\_weight_boosting.py\u001b[0m in \u001b[0;36mfit\u001b[1;34m(self, X, y, sample_weight)\u001b[0m\n\u001b[0;32m    124\u001b[0m         \u001b[1;31m# Initializion of the random number instance that will be used to\u001b[0m\u001b[1;33m\u001b[0m\u001b[1;33m\u001b[0m\u001b[1;33m\u001b[0m\u001b[0m\n\u001b[0;32m    125\u001b[0m         \u001b[1;31m# generate a seed at each iteration\u001b[0m\u001b[1;33m\u001b[0m\u001b[1;33m\u001b[0m\u001b[1;33m\u001b[0m\u001b[0m\n\u001b[1;32m--> 126\u001b[1;33m         \u001b[0mrandom_state\u001b[0m \u001b[1;33m=\u001b[0m \u001b[0mcheck_random_state\u001b[0m\u001b[1;33m(\u001b[0m\u001b[0mself\u001b[0m\u001b[1;33m.\u001b[0m\u001b[0mrandom_state\u001b[0m\u001b[1;33m)\u001b[0m\u001b[1;33m\u001b[0m\u001b[1;33m\u001b[0m\u001b[0m\n\u001b[0m\u001b[0;32m    127\u001b[0m \u001b[1;33m\u001b[0m\u001b[0m\n\u001b[0;32m    128\u001b[0m         \u001b[1;32mfor\u001b[0m \u001b[0miboost\u001b[0m \u001b[1;32min\u001b[0m \u001b[0mrange\u001b[0m\u001b[1;33m(\u001b[0m\u001b[0mself\u001b[0m\u001b[1;33m.\u001b[0m\u001b[0mn_estimators\u001b[0m\u001b[1;33m)\u001b[0m\u001b[1;33m:\u001b[0m\u001b[1;33m\u001b[0m\u001b[1;33m\u001b[0m\u001b[0m\n",
      "\u001b[1;32mc:\\users\\chris nguyen\\appdata\\local\\programs\\python\\python39\\lib\\site-packages\\sklearn\\utils\\validation.py\u001b[0m in \u001b[0;36mcheck_random_state\u001b[1;34m(seed)\u001b[0m\n\u001b[0;32m    941\u001b[0m     \u001b[1;32mif\u001b[0m \u001b[0misinstance\u001b[0m\u001b[1;33m(\u001b[0m\u001b[0mseed\u001b[0m\u001b[1;33m,\u001b[0m \u001b[0mnp\u001b[0m\u001b[1;33m.\u001b[0m\u001b[0mrandom\u001b[0m\u001b[1;33m.\u001b[0m\u001b[0mRandomState\u001b[0m\u001b[1;33m)\u001b[0m\u001b[1;33m:\u001b[0m\u001b[1;33m\u001b[0m\u001b[1;33m\u001b[0m\u001b[0m\n\u001b[0;32m    942\u001b[0m         \u001b[1;32mreturn\u001b[0m \u001b[0mseed\u001b[0m\u001b[1;33m\u001b[0m\u001b[1;33m\u001b[0m\u001b[0m\n\u001b[1;32m--> 943\u001b[1;33m     raise ValueError('%r cannot be used to seed a numpy.random.RandomState'\n\u001b[0m\u001b[0;32m    944\u001b[0m                      ' instance' % seed)\n\u001b[0;32m    945\u001b[0m \u001b[1;33m\u001b[0m\u001b[0m\n",
      "\u001b[1;31mValueError\u001b[0m:            Date          High           Low          Open         Close  \\\n0    2021-01-01  29600.626953  28803.585938  28994.009766  29374.152344   \n1    2021-01-02  33155.117188  29091.181641  29376.455078  32127.267578   \n2    2021-01-03  34608.558594  32052.316406  32129.408203  32782.023438   \n3    2021-01-04  33440.218750  28722.755859  32810.949219  31971.914062   \n4    2021-01-05  34437.589844  30221.187500  31977.041016  33992.429688   \n..          ...           ...           ...           ...           ...   \n170  2021-06-19  36059.484375  33432.074219  35563.140625  35698.296875   \n171  2021-06-20  35721.640625  31295.935547  35641.144531  31676.693359   \n172  2021-06-21  33292.453125  28893.621094  31622.376953  32505.660156   \n173  2021-06-22  34753.410156  31772.632812  32515.714844  33723.027344   \n174  2021-06-24  35152.718750  32385.214844  33593.867188  34642.179688   \n\n           Volume     Adj Close  \n0    4.073030e+10  29374.152344  \n1    6.786542e+10  32127.267578  \n2    7.866524e+10  32782.023438  \n3    8.116348e+10  31971.914062  \n4    6.754732e+10  33992.429688  \n..            ...           ...  \n170  3.666403e+10  35698.296875  \n171  5.280904e+10  31676.693359  \n172  5.896435e+10  32505.660156  \n173  4.631711e+10  33723.027344  \n174  3.273700e+10  34642.179688  \n\n[175 rows x 7 columns] cannot be used to seed a numpy.random.RandomState instance"
     ]
    }
   ],
   "source": [
    "import numpy as np\n",
    "import matplotlib.pyplot as plt\n",
    "from sklearn.tree import DecisionTreeRegressor\n",
    "from sklearn.ensemble import AdaBoostRegressor\n",
    "\n",
    "# Create the dataset\n",
    "rng = pd.read_csv('C:/Users/Chris Nguyen/Downloads/BTC.csv')\n",
    "X = data.iloc[:, 2].values.reshape(-1, 1)  # values converts it into a numpy array\n",
    "Y = data.iloc[:, 1].values.reshape(-1, 1)\n",
    "\n",
    "# Fit regression model\n",
    "regr_1 = DecisionTreeRegressor(max_depth=4)\n",
    "\n",
    "regr_2 = AdaBoostRegressor(DecisionTreeRegressor(max_depth=4),\n",
    "                          n_estimators=300, random_state=rng)\n",
    "\n",
    "regr_1.fit(X, y)\n",
    "regr_2.fit(X, y)\n",
    "\n",
    "# Predict\n",
    "y_1 = regr_1.predict(X)\n",
    "y_2 = regr_2.predict(X)\n",
    "\n",
    "# Plot the results\n",
    "plt.figure()\n",
    "plt.scatter(X, y, c=\"k\", label=\"training samples\")\n",
    "plt.plot(X, y_1, c=\"g\", label=\"n_estimators=1\", linewidth=2)\n",
    "plt.plot(X, y_2, c=\"r\", label=\"n_estimators=300\", linewidth=2)\n",
    "plt.xlabel(\"data\")\n",
    "plt.ylabel(\"target\")\n",
    "plt.title(\"Boosted Decision Tree Regression\")\n",
    "plt.legend()\n",
    "plt.show()"
   ]
  },
  {
   "cell_type": "code",
   "execution_count": null,
   "id": "c00664eb",
   "metadata": {},
   "outputs": [],
   "source": []
  }
 ],
 "metadata": {
  "kernelspec": {
   "display_name": "Python 3",
   "language": "python",
   "name": "python3"
  },
  "language_info": {
   "codemirror_mode": {
    "name": "ipython",
    "version": 3
   },
   "file_extension": ".py",
   "mimetype": "text/x-python",
   "name": "python",
   "nbconvert_exporter": "python",
   "pygments_lexer": "ipython3",
   "version": "3.9.5"
  }
 },
 "nbformat": 4,
 "nbformat_minor": 5
}
