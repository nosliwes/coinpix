{
 "cells": [
  {
   "cell_type": "markdown",
   "id": "fa304300-fb76-4901-9ac9-c1174cec7e3c",
   "metadata": {},
   "source": [
    "# Create indicator data files"
   ]
  },
  {
   "cell_type": "code",
   "execution_count": 1,
   "id": "ae1b61c7-187a-41a1-b748-61cd7a9f0677",
   "metadata": {},
   "outputs": [],
   "source": [
    "import pandas as pd\n",
    "import glob\n",
    "import os\n",
    "\n",
    "NEW_FOLDER = '../indicator-data/'"
   ]
  },
  {
   "cell_type": "markdown",
   "id": "ab0aadc6-4f94-4a66-92ef-eeda7ea65bfa",
   "metadata": {},
   "source": [
    "## Function to load data"
   ]
  },
  {
   "cell_type": "code",
   "execution_count": 2,
   "id": "3d58ba09-07c8-44b9-b96c-3fec7ca4bab3",
   "metadata": {},
   "outputs": [],
   "source": [
    "def load_data(filepath, keep_cols, label_col = None):   \n",
    "    # read csv data\n",
    "    df = pd.read_csv(filepath)\n",
    "    \n",
    "    # select only keep columns\n",
    "    df = df[keep_cols]\n",
    "\n",
    "    # drop missing rows\n",
    "    df.dropna(inplace=True)\n",
    "    \n",
    "    return df"
   ]
  },
  {
   "cell_type": "code",
   "execution_count": 3,
   "id": "1345ab25-eceb-4d35-8303-0b5c01291ce8",
   "metadata": {},
   "outputs": [],
   "source": [
    "# Calculate proportion change from one column to another\n",
    "def p_change(df, col1, col2):\n",
    "    col1_s = pd.Series(df[col1])\n",
    "    col2_s = pd.Series(df[col2])\n",
    "    pc_c1_c2 = []\n",
    "    for idx, value in enumerate(col1_s):\n",
    "        pc = col2_s[idx] - col1_s[idx]\n",
    "        pc = pc / col1_s[idx]\n",
    "        pc_c1_c2.append(pc)\n",
    "    return pc_c1_c2"
   ]
  },
  {
   "cell_type": "markdown",
   "id": "f756ea2b-e158-4b5a-97d9-c730db8b2406",
   "metadata": {},
   "source": [
    "## Load all of the files in the labeled data folder"
   ]
  },
  {
   "cell_type": "code",
   "execution_count": 4,
   "id": "1a30eed0-eaca-440e-bca8-a7bb92aebeb4",
   "metadata": {},
   "outputs": [],
   "source": [
    "input_files = glob.glob('../labeled-data/*.csv')\n",
    "\n",
    "for filepath in input_files:\n",
    "    df = load_data(filepath, keep_cols = ['symbol', 'Date', 'High', 'Low','Open','Close','signal'])\n",
    "    sma15c = df.Close.rolling(15,1).mean()\n",
    "    sma30c = df.Close.rolling(30,1).mean()\n",
    "    pc_sma15c_sma30c = []\n",
    "    # Calculate proportion change from 15 - 20 day SMA\n",
    "    for idx, value in enumerate(sma15c):\n",
    "        pc = sma30c[idx] - sma15c[idx]\n",
    "        pc = pc / sma30c[idx]\n",
    "        pc_sma15c_sma30c.append(pc)\n",
    "    df['pc_sma15c_sma30c'] = pc_sma15c_sma30c\n",
    "    df['pc_open_close'] = p_change(df, 'Open', 'Close')\n",
    "    df['pc_high_low'] = p_change(df, 'High', 'Low')\n",
    "    df['pc_low_close'] = p_change(df, 'Low', 'Close')\n",
    "    bp = os.path.basename(filepath)\n",
    "    new_file_name = NEW_FOLDER + bp\n",
    "    df.to_csv(new_file_name, index=False)"
   ]
  },
  {
   "cell_type": "code",
   "execution_count": null,
   "id": "7d840283-bf3c-46fc-8570-42da762b06a9",
   "metadata": {},
   "outputs": [],
   "source": []
  },
  {
   "cell_type": "code",
   "execution_count": null,
   "id": "47cbfedf-0342-4e1b-8b68-7cf0f1532d4c",
   "metadata": {},
   "outputs": [],
   "source": []
  }
 ],
 "metadata": {
  "kernelspec": {
   "display_name": "Python 3",
   "language": "python",
   "name": "python3"
  },
  "language_info": {
   "codemirror_mode": {
    "name": "ipython",
    "version": 3
   },
   "file_extension": ".py",
   "mimetype": "text/x-python",
   "name": "python",
   "nbconvert_exporter": "python",
   "pygments_lexer": "ipython3",
   "version": "3.8.8"
  }
 },
 "nbformat": 4,
 "nbformat_minor": 5
}
