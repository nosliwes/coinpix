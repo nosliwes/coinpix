{
 "cells": [
  {
   "cell_type": "code",
   "execution_count": 1,
   "id": "807bcf04-ab4f-4dd6-b065-27723b313356",
   "metadata": {},
   "outputs": [],
   "source": [
    "import pandas as pd"
   ]
  },
  {
   "cell_type": "code",
   "execution_count": 2,
   "id": "12150011-bda9-4793-b47d-63b387511806",
   "metadata": {},
   "outputs": [],
   "source": [
    "cluster_df = pd.read_csv('./notebooks/clusters.csv')"
   ]
  },
  {
   "cell_type": "code",
   "execution_count": 5,
   "id": "e6a14f97-9480-4d00-ab6a-9b054a94f1a9",
   "metadata": {},
   "outputs": [
    {
     "data": {
      "text/html": [
       "<div>\n",
       "<style scoped>\n",
       "    .dataframe tbody tr th:only-of-type {\n",
       "        vertical-align: middle;\n",
       "    }\n",
       "\n",
       "    .dataframe tbody tr th {\n",
       "        vertical-align: top;\n",
       "    }\n",
       "\n",
       "    .dataframe thead th {\n",
       "        text-align: right;\n",
       "    }\n",
       "</style>\n",
       "<table border=\"1\" class=\"dataframe\">\n",
       "  <thead>\n",
       "    <tr style=\"text-align: right;\">\n",
       "      <th></th>\n",
       "      <th>Unnamed: 0</th>\n",
       "      <th>coin</th>\n",
       "      <th>return</th>\n",
       "      <th>variance</th>\n",
       "      <th>cluster</th>\n",
       "    </tr>\n",
       "  </thead>\n",
       "  <tbody>\n",
       "    <tr>\n",
       "      <th>28</th>\n",
       "      <td>28</td>\n",
       "      <td>BTT1</td>\n",
       "      <td>6.718235</td>\n",
       "      <td>108.406759</td>\n",
       "      <td>0</td>\n",
       "    </tr>\n",
       "    <tr>\n",
       "      <th>36</th>\n",
       "      <td>37</td>\n",
       "      <td>HOT1</td>\n",
       "      <td>5.883760</td>\n",
       "      <td>74.008961</td>\n",
       "      <td>0</td>\n",
       "    </tr>\n",
       "    <tr>\n",
       "      <th>40</th>\n",
       "      <td>41</td>\n",
       "      <td>ENJ</td>\n",
       "      <td>8.187812</td>\n",
       "      <td>124.015507</td>\n",
       "      <td>0</td>\n",
       "    </tr>\n",
       "    <tr>\n",
       "      <th>43</th>\n",
       "      <td>44</td>\n",
       "      <td>MANA</td>\n",
       "      <td>5.866293</td>\n",
       "      <td>71.159058</td>\n",
       "      <td>0</td>\n",
       "    </tr>\n",
       "    <tr>\n",
       "      <th>57</th>\n",
       "      <td>59</td>\n",
       "      <td>ANKR</td>\n",
       "      <td>7.549854</td>\n",
       "      <td>129.732200</td>\n",
       "      <td>0</td>\n",
       "    </tr>\n",
       "    <tr>\n",
       "      <th>82</th>\n",
       "      <td>84</td>\n",
       "      <td>FET</td>\n",
       "      <td>5.404705</td>\n",
       "      <td>84.151166</td>\n",
       "      <td>0</td>\n",
       "    </tr>\n",
       "    <tr>\n",
       "      <th>92</th>\n",
       "      <td>94</td>\n",
       "      <td>AVA</td>\n",
       "      <td>6.046762</td>\n",
       "      <td>68.050562</td>\n",
       "      <td>0</td>\n",
       "    </tr>\n",
       "  </tbody>\n",
       "</table>\n",
       "</div>"
      ],
      "text/plain": [
       "    Unnamed: 0  coin    return    variance  cluster\n",
       "28          28  BTT1  6.718235  108.406759        0\n",
       "36          37  HOT1  5.883760   74.008961        0\n",
       "40          41   ENJ  8.187812  124.015507        0\n",
       "43          44  MANA  5.866293   71.159058        0\n",
       "57          59  ANKR  7.549854  129.732200        0\n",
       "82          84   FET  5.404705   84.151166        0\n",
       "92          94   AVA  6.046762   68.050562        0"
      ]
     },
     "execution_count": 5,
     "metadata": {},
     "output_type": "execute_result"
    }
   ],
   "source": [
    "cluster_df[cluster_df.cluster==0]"
   ]
  }
 ],
 "metadata": {
  "kernelspec": {
   "display_name": "Python 3",
   "language": "python",
   "name": "python3"
  },
  "language_info": {
   "codemirror_mode": {
    "name": "ipython",
    "version": 3
   },
   "file_extension": ".py",
   "mimetype": "text/x-python",
   "name": "python",
   "nbconvert_exporter": "python",
   "pygments_lexer": "ipython3",
   "version": "3.8.8"
  }
 },
 "nbformat": 4,
 "nbformat_minor": 5
}
