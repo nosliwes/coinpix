{
 "cells": [
  {
   "cell_type": "code",
   "execution_count": 1,
   "id": "359a0556-c056-4201-9fad-fcd002bb7784",
   "metadata": {},
   "outputs": [],
   "source": [
    "import pickle\n",
    "import random_forest"
   ]
  },
  {
   "cell_type": "code",
   "execution_count": 3,
   "id": "d3cce57a-2cfe-421e-840e-59bf4f94741e",
   "metadata": {},
   "outputs": [
    {
     "name": "stderr",
     "output_type": "stream",
     "text": [
      "C:\\Users\\steve\\anaconda3\\lib\\site-packages\\sklearn\\base.py:310: UserWarning: Trying to unpickle estimator SVR from version 0.24.2 when using version 0.24.1. This might lead to breaking code or invalid results. Use at your own risk.\n",
      "  warnings.warn(\n"
     ]
    }
   ],
   "source": [
    "classifier_filename = 'classification.sav'\n",
    "regressor_filename = 'SVR.sav'\n",
    "\n",
    "# load models\n",
    "classifier = pickle.load(open(classifier_filename, 'rb'))\n",
    "regressor = pickle.load(open(regressor_filename, 'rb'))"
   ]
  },
  {
   "cell_type": "code",
   "execution_count": 7,
   "id": "73ec9f8f-bab5-42fc-9954-79d4d8e8512a",
   "metadata": {},
   "outputs": [
    {
     "data": {
      "text/plain": [
       "SVR(C=1000.0, gamma=1e-05)"
      ]
     },
     "execution_count": 7,
     "metadata": {},
     "output_type": "execute_result"
    }
   ],
   "source": [
    "regressor"
   ]
  },
  {
   "cell_type": "code",
   "execution_count": 4,
   "id": "b6b3186a-6947-43f9-ae19-e5a39c3c7f68",
   "metadata": {},
   "outputs": [
    {
     "data": {
      "text/plain": [
       "<random_forest.Random_Forest at 0x20e353abbe0>"
      ]
     },
     "execution_count": 4,
     "metadata": {},
     "output_type": "execute_result"
    }
   ],
   "source": [
    "classifier"
   ]
  }
 ],
 "metadata": {
  "kernelspec": {
   "display_name": "Python 3",
   "language": "python",
   "name": "python3"
  },
  "language_info": {
   "codemirror_mode": {
    "name": "ipython",
    "version": 3
   },
   "file_extension": ".py",
   "mimetype": "text/x-python",
   "name": "python",
   "nbconvert_exporter": "python",
   "pygments_lexer": "ipython3",
   "version": "3.8.8"
  }
 },
 "nbformat": 4,
 "nbformat_minor": 5
}
